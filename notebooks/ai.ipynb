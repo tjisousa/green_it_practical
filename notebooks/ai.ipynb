{
 "cells": [
  {
   "cell_type": "code",
   "execution_count": 1,
   "metadata": {},
   "outputs": [
    {
     "name": "stderr",
     "output_type": "stream",
     "text": [
      "2023-10-16 12:33:01.311051: I tensorflow/tsl/cuda/cudart_stub.cc:28] Could not find cuda drivers on your machine, GPU will not be used.\n",
      "2023-10-16 12:33:02.119533: E tensorflow/compiler/xla/stream_executor/cuda/cuda_dnn.cc:9342] Unable to register cuDNN factory: Attempting to register factory for plugin cuDNN when one has already been registered\n",
      "2023-10-16 12:33:02.119598: E tensorflow/compiler/xla/stream_executor/cuda/cuda_fft.cc:609] Unable to register cuFFT factory: Attempting to register factory for plugin cuFFT when one has already been registered\n",
      "2023-10-16 12:33:02.126910: E tensorflow/compiler/xla/stream_executor/cuda/cuda_blas.cc:1518] Unable to register cuBLAS factory: Attempting to register factory for plugin cuBLAS when one has already been registered\n",
      "2023-10-16 12:33:02.359545: I tensorflow/tsl/cuda/cudart_stub.cc:28] Could not find cuda drivers on your machine, GPU will not be used.\n",
      "2023-10-16 12:33:02.360387: I tensorflow/core/platform/cpu_feature_guard.cc:182] This TensorFlow binary is optimized to use available CPU instructions in performance-critical operations.\n",
      "To enable the following instructions: AVX2 FMA, in other operations, rebuild TensorFlow with the appropriate compiler flags.\n",
      "2023-10-16 12:33:07.665657: W tensorflow/compiler/tf2tensorrt/utils/py_utils.cc:38] TF-TRT Warning: Could not find TensorRT\n"
     ]
    }
   ],
   "source": [
    "import tensorflow as tf\n",
    "from codecarbon import EmissionsTracker"
   ]
  },
  {
   "cell_type": "markdown",
   "metadata": {},
   "source": [
    "Once you have installed and imported all the dependencies, you can now create a simple neural network, using [tensorflow](https://www.tensorflow.org/) and the [mnist dataset](https://www.tensorflow.org/api_docs/python/tf/keras/datasets/mnist).\n",
    "\n",
    "**IMPORTANT:** 🚥 Don't fit the model just yet!"
   ]
  },
  {
   "cell_type": "code",
   "execution_count": 2,
   "metadata": {},
   "outputs": [],
   "source": [
    "# Add your simple neural network in this cell\n"
   ]
  },
  {
   "cell_type": "markdown",
   "metadata": {},
   "source": [
    "🆘 If you don't know how to do it, feel free to use the pre-made code in the cell below and change it to your needs. 🆘 "
   ]
  },
  {
   "cell_type": "code",
   "execution_count": 3,
   "metadata": {},
   "outputs": [],
   "source": [
    "def load_model(epochs=20):\n",
    "    mnist = tf.keras.datasets.mnist\n",
    "\n",
    "    (x_train, y_train), (x_test, y_test) = mnist.load_data()\n",
    "    x_train, x_test = x_train / 255.0, x_test / 255.0\n",
    "\n",
    "\n",
    "    model = tf.keras.models.Sequential(\n",
    "        [\n",
    "            tf.keras.layers.Flatten(input_shape=(28, 28)),\n",
    "            tf.keras.layers.Dense(128, activation=\"relu\"),\n",
    "            tf.keras.layers.Dropout(0.2),\n",
    "            tf.keras.layers.Dense(10),\n",
    "        ]\n",
    "    )\n",
    "\n",
    "    loss_fn = tf.keras.losses.SparseCategoricalCrossentropy(from_logits=True)\n",
    "    model.compile(optimizer=\"adam\", loss=loss_fn, metrics=[\"accuracy\"])\n",
    "    model.fit(x_train, y_train, epochs=epochs)"
   ]
  },
  {
   "cell_type": "markdown",
   "metadata": {},
   "source": [
    "With this practical, we want to estimate the amount of carbon dioxide (CO₂) produced by our computing resources used to execute the code, namely the artificial neural network.\n",
    "To do it, we are going to apply the [**CodeCarbon**](https://codecarbon.io/) methodology to track CO₂ emissions across our machine learning experiments."
   ]
  },
  {
   "cell_type": "markdown",
   "metadata": {},
   "source": [
    "Hence, your tasks now are:\n",
    "1. Read the **CodeCarbon** [documentation](https://mlco2.github.io/codecarbon/)\n",
    "2. Start to estimate your impact ([help link](https://github.com/mlco2/codecarbon/tree/master?tab=readme-ov-file#start-to-estimate-your-impact-))\n",
    "3. Instantiate a `EmissionsTracker` object and call the start function to start tracking and estimating the CO₂ of the compute section.\n",
    "4. Fit your ANN model.\n",
    "5. Stop the tracking."
   ]
  },
  {
   "cell_type": "code",
   "execution_count": 4,
   "metadata": {},
   "outputs": [
    {
     "name": "stderr",
     "output_type": "stream",
     "text": [
      "[codecarbon INFO @ 12:33:22] [setup] RAM Tracking...\n",
      "[codecarbon INFO @ 12:33:22] [setup] GPU Tracking...\n",
      "[codecarbon INFO @ 12:33:22] No GPU found.\n",
      "[codecarbon INFO @ 12:33:22] [setup] CPU Tracking...\n",
      "[codecarbon WARNING @ 12:33:22] No CPU tracking mode found. Falling back on CPU constant mode.\n",
      "[codecarbon INFO @ 12:33:24] CPU Model on constant consumption mode: AMD EPYC 7763 64-Core Processor\n",
      "[codecarbon INFO @ 12:33:24] >>> Tracker's metadata:\n",
      "[codecarbon INFO @ 12:33:24]   Platform system: Linux-6.2.0-1014-azure-x86_64-with-glibc2.31\n",
      "[codecarbon INFO @ 12:33:24]   Python version: 3.10.8\n",
      "[codecarbon INFO @ 12:33:24]   CodeCarbon version: 2.3.1\n",
      "[codecarbon INFO @ 12:33:24]   Available RAM : 7.744 GB\n",
      "[codecarbon INFO @ 12:33:24]   CPU count: 2\n",
      "[codecarbon INFO @ 12:33:24]   CPU model: AMD EPYC 7763 64-Core Processor\n",
      "[codecarbon INFO @ 12:33:24]   GPU count: None\n",
      "[codecarbon INFO @ 12:33:24]   GPU model: None\n"
     ]
    }
   ],
   "source": [
    "tracker = EmissionsTracker(project_name=\"green_it_mnist\")\n",
    "tracker.start()"
   ]
  },
  {
   "cell_type": "code",
   "execution_count": 5,
   "metadata": {},
   "outputs": [
    {
     "name": "stdout",
     "output_type": "stream",
     "text": [
      "Downloading data from https://storage.googleapis.com/tensorflow/tf-keras-datasets/mnist.npz\n",
      "11490434/11490434 [==============================] - 1s 0us/step\n"
     ]
    },
    {
     "name": "stderr",
     "output_type": "stream",
     "text": [
      "2023-10-16 12:33:31.833229: W tensorflow/tsl/framework/cpu_allocator_impl.cc:83] Allocation of 188160000 exceeds 10% of free system memory.\n"
     ]
    },
    {
     "name": "stdout",
     "output_type": "stream",
     "text": [
      "Epoch 1/2\n",
      "1875/1875 [==============================] - 7s 3ms/step - loss: 0.2987 - accuracy: 0.9129\n",
      "Epoch 2/2\n",
      "1797/1875 [===========================>..] - ETA: 0s - loss: 0.1450 - accuracy: 0.9577"
     ]
    },
    {
     "name": "stderr",
     "output_type": "stream",
     "text": [
      "[codecarbon INFO @ 12:33:43] Energy consumed for RAM : 0.000012 kWh. RAM Power : 2.904045581817627 W\n",
      "[codecarbon INFO @ 12:33:43] Energy consumed for all CPUs : 0.000583 kWh. Total CPU Power : 140.0 W\n",
      "[codecarbon INFO @ 12:33:43] 0.000596 kWh of electricity used since the beginning.\n"
     ]
    },
    {
     "name": "stdout",
     "output_type": "stream",
     "text": [
      "1875/1875 [==============================] - 4s 2ms/step - loss: 0.1439 - accuracy: 0.9580\n"
     ]
    },
    {
     "name": "stderr",
     "output_type": "stream",
     "text": [
      "[codecarbon INFO @ 12:33:43] Energy consumed for RAM : 0.000012 kWh. RAM Power : 2.904045581817627 W\n",
      "[codecarbon INFO @ 12:33:43] Energy consumed for all CPUs : 0.000588 kWh. Total CPU Power : 140.0 W\n",
      "[codecarbon INFO @ 12:33:43] 0.000600 kWh of electricity used since the beginning.\n",
      "/home/codespace/.python/current/lib/python3.10/site-packages/codecarbon/output.py:168: FutureWarning: The behavior of DataFrame concatenation with empty or all-NA entries is deprecated. In a future version, this will no longer exclude empty or all-NA columns when determining the result dtypes. To retain the old behavior, exclude the relevant entries before the concat operation.\n",
      "  df = pd.concat([df, pd.DataFrame.from_records([dict(data.values)])])\n"
     ]
    }
   ],
   "source": [
    "load_model(2)\n",
    "emissions = tracker.stop()\n"
   ]
  },
  {
   "cell_type": "markdown",
   "metadata": {},
   "source": [
    "**Question**: What are the total emissions of your ANN computation? "
   ]
  },
  {
   "cell_type": "code",
   "execution_count": 6,
   "metadata": {},
   "outputs": [
    {
     "name": "stdout",
     "output_type": "stream",
     "text": [
      "Emissions: 0.00023338130192471486 kg\n"
     ]
    }
   ],
   "source": [
    "print(f\"Emissions: {emissions} kg\")"
   ]
  }
 ],
 "metadata": {
  "kernelspec": {
   "display_name": "Python 3 (ipykernel)",
   "language": "python",
   "name": "python3"
  },
  "language_info": {
   "codemirror_mode": {
    "name": "ipython",
    "version": 3
   },
   "file_extension": ".py",
   "mimetype": "text/x-python",
   "name": "python",
   "nbconvert_exporter": "python",
   "pygments_lexer": "ipython3",
   "version": "3.10.8"
  },
  "orig_nbformat": 4,
  "vscode": {
   "interpreter": {
    "hash": "3ad933181bd8a04b432d3370b9dc3b0662ad032c4dfaa4e4f1596c548f763858"
   }
  }
 },
 "nbformat": 4,
 "nbformat_minor": 2
}
